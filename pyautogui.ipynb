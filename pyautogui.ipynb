{
 "cells": [
  {
   "attachments": {},
   "cell_type": "markdown",
   "metadata": {},
   "source": [
    "## Automatizando um sistema!\n",
    "    - A Bliblioteca pyautogui e feita para automatizar tudo! "
   ]
  },
  {
   "cell_type": "code",
   "execution_count": 6,
   "metadata": {},
   "outputs": [
    {
     "name": "stdout",
     "output_type": "stream",
     "text": [
      "Defaulting to user installation because normal site-packages is not writeable\n",
      "Requirement already satisfied: pyautogui in /home/luite/.local/lib/python3.10/site-packages (0.9.53)\n",
      "Requirement already satisfied: python3-Xlib in /home/luite/.local/lib/python3.10/site-packages (from pyautogui) (0.15)\n",
      "Requirement already satisfied: PyTweening>=1.0.1 in /home/luite/.local/lib/python3.10/site-packages (from pyautogui) (1.0.4)\n",
      "Requirement already satisfied: mouseinfo in /home/luite/.local/lib/python3.10/site-packages (from pyautogui) (0.1.3)\n",
      "Requirement already satisfied: pymsgbox in /home/luite/.local/lib/python3.10/site-packages (from pyautogui) (1.0.9)\n",
      "Requirement already satisfied: pyscreeze>=0.1.21 in /home/luite/.local/lib/python3.10/site-packages (from pyautogui) (0.1.28)\n",
      "Requirement already satisfied: pygetwindow>=0.0.5 in /home/luite/.local/lib/python3.10/site-packages (from pyautogui) (0.0.9)\n",
      "Requirement already satisfied: pyrect in /home/luite/.local/lib/python3.10/site-packages (from pygetwindow>=0.0.5->pyautogui) (0.2.0)\n",
      "Requirement already satisfied: pyperclip in /home/luite/.local/lib/python3.10/site-packages (from mouseinfo->pyautogui) (1.8.2)\n",
      "Note: you may need to restart the kernel to use updated packages.\n"
     ]
    }
   ],
   "source": [
    "# instalando a LIB\n",
    "%pip install pyautogui\n"
   ]
  },
  {
   "cell_type": "code",
   "execution_count": 7,
   "metadata": {},
   "outputs": [],
   "source": [
    "# imporantando as LIB\n",
    "import pyautogui\n",
    "import time\n",
    "import sys\n",
    "\n",
    "\n"
   ]
  },
  {
   "cell_type": "code",
   "execution_count": 8,
   "metadata": {},
   "outputs": [
    {
     "data": {
      "text/plain": [
       "'OK'"
      ]
     },
     "execution_count": 8,
     "metadata": {},
     "output_type": "execute_result"
    }
   ],
   "source": [
    "pyautogui.alert('Estou rodando um codigo de Automação não mecha em nada')"
   ]
  },
  {
   "cell_type": "code",
   "execution_count": 9,
   "metadata": {},
   "outputs": [],
   "source": [
    "# Abrindo navegador\n",
    "pyautogui.PAUSE = 1\n",
    "pyautogui.press('Win')\n",
    "pyautogui.write(\"Google Chrome\")\n",
    "pyautogui.press('enter')\n",
    "pyautogui.moveTo(1893, 76)\n",
    "pyautogui.click()\n",
    "pyautogui.moveTo(1630, 153)\n",
    "pyautogui.click()\n"
   ]
  },
  {
   "cell_type": "code",
   "execution_count": 10,
   "metadata": {},
   "outputs": [],
   "source": [
    "# acessando o site desajavel \n",
    "time.sleep(1)\n",
    "pyautogui.write(\"https://glpi.prodataweb.inf.br/glpi/index.php?noAUTO=1\")\n",
    "pyautogui.press('enter')\n",
    "pyautogui.moveTo(1138, 797)\n",
    "pyautogui.click()\n",
    "\n",
    "# imput dados de logim no site\n",
    "pyautogui.moveTo(844, 613)\n",
    "pyautogui.click()\n",
    "pyautogui.write(\"Seu loguim aqui\")\n",
    "pyautogui.press('tab')\n",
    "pyautogui.write(\"Coloque sua Senha\")\n",
    "pyautogui.press('enter')\n",
    "time.sleep(1)\n",
    "\n",
    "# imput usuario Requerente\n",
    "pyautogui.moveTo(682, 538)\n",
    "pyautogui.click()\n",
    "pyautogui.write('nome do Requerente')\n",
    "time.sleep(1)\n",
    "pyautogui.press('enter')\n",
    "\n",
    "#imput Usuario Tecnico\n",
    "pyautogui.moveTo(1252, 542)\n",
    "pyautogui.click()\n",
    "pyautogui.write('Luite')\n",
    "pyautogui.press('enter')\n",
    "time.sleep(1)\n"
   ]
  },
  {
   "cell_type": "code",
   "execution_count": 11,
   "metadata": {},
   "outputs": [],
   "source": [
    "# Setando o modulo que foi realizado o atendimento. \n",
    "pyautogui.moveTo(1023, 468)\n",
    "pyautogui.click()\n",
    "pyautogui.write('compras')\n",
    "pyautogui.hotkey('down')\n",
    "pyautogui.press('enter')\n",
    "\n",
    "# Seleceonando origem do chamado! \n",
    "pyautogui.moveTo(1078, 657)\n",
    "pyautogui.click()\n",
    "pyautogui.moveTo(1052, 756)\n",
    "pyautogui.click()\n",
    "\n"
   ]
  },
  {
   "cell_type": "code",
   "execution_count": 12,
   "metadata": {},
   "outputs": [],
   "source": [
    "pyautogui.scroll(-100)\n",
    "pyautogui.moveTo(658, 251)\n",
    "pyautogui.click()\n",
    "pyautogui.write(\"Teste Teste Teste\")\n",
    "pyautogui.press('tab')\n",
    "pyautogui.hotkey('ctrl','a', 'del')\n",
    "pyautogui.write(\"fiz um processo de compra e coloquei informaçoes errada, preciso de ajudar para corrigir o mesmo Nrº Pedido: 111515\")\n",
    "pyautogui.moveTo(957, 892)\n",
    "pyautogui.click()\n"
   ]
  },
  {
   "cell_type": "code",
   "execution_count": 13,
   "metadata": {},
   "outputs": [
    {
     "data": {
      "text/plain": [
       "Point(x=957, y=892)"
      ]
     },
     "execution_count": 13,
     "metadata": {},
     "output_type": "execute_result"
    }
   ],
   "source": [
    "# verificar posição do mouse. \n",
    "pyautogui.position()\n"
   ]
  },
  {
   "cell_type": "code",
   "execution_count": null,
   "metadata": {},
   "outputs": [],
   "source": []
  }
 ],
 "metadata": {
  "kernelspec": {
   "display_name": "Python 3",
   "language": "python",
   "name": "python3"
  },
  "language_info": {
   "codemirror_mode": {
    "name": "ipython",
    "version": 3
   },
   "file_extension": ".py",
   "mimetype": "text/x-python",
   "name": "python",
   "nbconvert_exporter": "python",
   "pygments_lexer": "ipython3",
   "version": "3.10.6"
  },
  "orig_nbformat": 4,
  "vscode": {
   "interpreter": {
    "hash": "916dbcbb3f70747c44a77c7bcd40155683ae19c65e1c03b4aa3499c5328201f1"
   }
  }
 },
 "nbformat": 4,
 "nbformat_minor": 2
}
